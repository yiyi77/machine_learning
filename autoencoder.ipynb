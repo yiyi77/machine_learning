{
 "cells": [
  {
   "cell_type": "code",
   "execution_count": 10,
   "metadata": {},
   "outputs": [],
   "source": [
    "from keras.layers import Input, Dense\n",
    "from keras.models import Model\n",
    "\n",
    "# this is the size of our encoded representations\n",
    "encoding_dim = 32  # 32 floats -> compression of factor 24.5, assuming the input is 784 floats\n",
    "\n",
    "# this is our input placeholder\n",
    "input_img = Input(shape=(784,))\n",
    "# \"encoded\" is the encoded representation of the input\n",
    "encoded = Dense(encoding_dim, activation='relu')(input_img)\n",
    "# \"decoded\" is the lossy reconstruction of the input\n",
    "decoded = Dense(784, activation='sigmoid')(encoded)\n",
    "\n",
    "# this model maps an input to its reconstruction\n",
    "autoencoder = Model(input_img, decoded)"
   ]
  },
  {
   "cell_type": "code",
   "execution_count": 11,
   "metadata": {
    "collapsed": true
   },
   "outputs": [],
   "source": [
    "# this model maps an input to its encoded representation\n",
    "encoder = Model(input_img, encoded)"
   ]
  },
  {
   "cell_type": "code",
   "execution_count": 12,
   "metadata": {
    "collapsed": true
   },
   "outputs": [],
   "source": [
    "# create a placeholder for an encoded (32-dimensional) input\n",
    "encoded_input = Input(shape=(encoding_dim,))\n",
    "# retrieve the last layer of the autoencoder model\n",
    "decoder_layer = autoencoder.layers[-1]\n",
    "# create the decoder model\n",
    "decoder = Model(encoded_input, decoder_layer(encoded_input))"
   ]
  },
  {
   "cell_type": "code",
   "execution_count": 13,
   "metadata": {
    "collapsed": true
   },
   "outputs": [],
   "source": [
    "autoencoder.compile(optimizer='adadelta', loss='binary_crossentropy')"
   ]
  },
  {
   "cell_type": "code",
   "execution_count": 14,
   "metadata": {
    "collapsed": true
   },
   "outputs": [],
   "source": [
    "from keras.datasets import mnist\n",
    "import numpy as np\n",
    "(x_train, _), (x_test, _) = mnist.load_data()"
   ]
  },
  {
   "cell_type": "code",
   "execution_count": 15,
   "metadata": {},
   "outputs": [
    {
     "name": "stdout",
     "output_type": "stream",
     "text": [
      "(60000, 784)\n",
      "(10000, 784)\n"
     ]
    }
   ],
   "source": [
    "x_train = x_train.astype('float32') / 255.\n",
    "x_test = x_test.astype('float32') / 255.\n",
    "x_train = x_train.reshape((len(x_train), np.prod(x_train.shape[1:])))\n",
    "x_test = x_test.reshape((len(x_test), np.prod(x_test.shape[1:])))\n",
    "print(x_train.shape)\n",
    "print (x_test.shape)"
   ]
  },
  {
   "cell_type": "code",
   "execution_count": 16,
   "metadata": {},
   "outputs": [
    {
     "name": "stdout",
     "output_type": "stream",
     "text": [
      "Train on 60000 samples, validate on 10000 samples\n",
      "Epoch 1/100\n",
      "60000/60000 [==============================] - 7s - loss: 0.3741 - val_loss: 0.2722\n",
      "Epoch 2/100\n",
      "60000/60000 [==============================] - 6s - loss: 0.2649 - val_loss: 0.2543\n",
      "Epoch 3/100\n",
      "60000/60000 [==============================] - 5s - loss: 0.2436 - val_loss: 0.2307\n",
      "Epoch 4/100\n",
      "60000/60000 [==============================] - 5s - loss: 0.2223 - val_loss: 0.2119\n",
      "Epoch 5/100\n",
      "60000/60000 [==============================] - 5s - loss: 0.2065 - val_loss: 0.1990\n",
      "Epoch 6/100\n",
      "60000/60000 [==============================] - 5s - loss: 0.1955 - val_loss: 0.1898\n",
      "Epoch 7/100\n",
      "60000/60000 [==============================] - 5s - loss: 0.1874 - val_loss: 0.1826\n",
      "Epoch 8/100\n",
      "60000/60000 [==============================] - 5s - loss: 0.1809 - val_loss: 0.1765\n",
      "Epoch 9/100\n",
      "60000/60000 [==============================] - 5s - loss: 0.1752 - val_loss: 0.1712\n",
      "Epoch 10/100\n",
      "60000/60000 [==============================] - 5s - loss: 0.1701 - val_loss: 0.1665\n",
      "Epoch 11/100\n",
      "60000/60000 [==============================] - 5s - loss: 0.1655 - val_loss: 0.1620\n",
      "Epoch 12/100\n",
      "60000/60000 [==============================] - 5s - loss: 0.1613 - val_loss: 0.1579\n",
      "Epoch 13/100\n",
      "60000/60000 [==============================] - 5s - loss: 0.1573 - val_loss: 0.1541\n",
      "Epoch 14/100\n",
      "60000/60000 [==============================] - 5s - loss: 0.1536 - val_loss: 0.1504\n",
      "Epoch 15/100\n",
      "60000/60000 [==============================] - 5s - loss: 0.1502 - val_loss: 0.1471\n",
      "Epoch 16/100\n",
      "60000/60000 [==============================] - 5s - loss: 0.1469 - val_loss: 0.1439\n",
      "Epoch 17/100\n",
      "60000/60000 [==============================] - 6s - loss: 0.1440 - val_loss: 0.1411\n",
      "Epoch 18/100\n",
      "60000/60000 [==============================] - 7s - loss: 0.1412 - val_loss: 0.1383\n",
      "Epoch 19/100\n",
      "60000/60000 [==============================] - 6s - loss: 0.1386 - val_loss: 0.1358\n",
      "Epoch 20/100\n",
      "60000/60000 [==============================] - 6s - loss: 0.1362 - val_loss: 0.1336\n",
      "Epoch 21/100\n",
      "60000/60000 [==============================] - 6s - loss: 0.1339 - val_loss: 0.1313\n",
      "Epoch 22/100\n",
      "60000/60000 [==============================] - 6s - loss: 0.1318 - val_loss: 0.1291\n",
      "Epoch 23/100\n",
      "60000/60000 [==============================] - 5s - loss: 0.1297 - val_loss: 0.1272\n",
      "Epoch 24/100\n",
      "60000/60000 [==============================] - 5s - loss: 0.1278 - val_loss: 0.1252\n",
      "Epoch 25/100\n",
      "60000/60000 [==============================] - 5s - loss: 0.1259 - val_loss: 0.1234\n",
      "Epoch 26/100\n",
      "60000/60000 [==============================] - 5s - loss: 0.1241 - val_loss: 0.1218\n",
      "Epoch 27/100\n",
      "60000/60000 [==============================] - 6s - loss: 0.1225 - val_loss: 0.1200\n",
      "Epoch 28/100\n",
      "60000/60000 [==============================] - 6s - loss: 0.1209 - val_loss: 0.1185\n",
      "Epoch 29/100\n",
      "60000/60000 [==============================] - 5s - loss: 0.1194 - val_loss: 0.1170\n",
      "Epoch 30/100\n",
      "60000/60000 [==============================] - 5s - loss: 0.1179 - val_loss: 0.1157\n",
      "Epoch 31/100\n",
      "60000/60000 [==============================] - 5s - loss: 0.1166 - val_loss: 0.1143\n",
      "Epoch 32/100\n",
      "60000/60000 [==============================] - 5s - loss: 0.1153 - val_loss: 0.1131\n",
      "Epoch 33/100\n",
      "60000/60000 [==============================] - 5s - loss: 0.1141 - val_loss: 0.1119\n",
      "Epoch 34/100\n",
      "60000/60000 [==============================] - 5s - loss: 0.1130 - val_loss: 0.1108\n",
      "Epoch 35/100\n",
      "60000/60000 [==============================] - 5s - loss: 0.1120 - val_loss: 0.1098\n",
      "Epoch 36/100\n",
      "60000/60000 [==============================] - 4s - loss: 0.1110 - val_loss: 0.1089\n",
      "Epoch 37/100\n",
      "60000/60000 [==============================] - 4s - loss: 0.1101 - val_loss: 0.1080\n",
      "Epoch 38/100\n",
      "60000/60000 [==============================] - 4s - loss: 0.1092 - val_loss: 0.1072\n",
      "Epoch 39/100\n",
      "60000/60000 [==============================] - 4s - loss: 0.1085 - val_loss: 0.1064\n",
      "Epoch 40/100\n",
      "60000/60000 [==============================] - 4s - loss: 0.1077 - val_loss: 0.1057\n",
      "Epoch 41/100\n",
      "60000/60000 [==============================] - 4s - loss: 0.1070 - val_loss: 0.1051\n",
      "Epoch 42/100\n",
      "60000/60000 [==============================] - 4s - loss: 0.1064 - val_loss: 0.1045\n",
      "Epoch 43/100\n",
      "60000/60000 [==============================] - 4s - loss: 0.1058 - val_loss: 0.1039\n",
      "Epoch 44/100\n",
      "60000/60000 [==============================] - 5s - loss: 0.1052 - val_loss: 0.1033\n",
      "Epoch 45/100\n",
      "60000/60000 [==============================] - 6s - loss: 0.1047 - val_loss: 0.1028\n",
      "Epoch 46/100\n",
      "60000/60000 [==============================] - 6s - loss: 0.1042 - val_loss: 0.1024\n",
      "Epoch 47/100\n",
      "60000/60000 [==============================] - 5s - loss: 0.1038 - val_loss: 0.1019\n",
      "Epoch 48/100\n",
      "60000/60000 [==============================] - 5s - loss: 0.1034 - val_loss: 0.1015\n",
      "Epoch 49/100\n",
      "60000/60000 [==============================] - 7s - loss: 0.1030 - val_loss: 0.1011\n",
      "Epoch 50/100\n",
      "60000/60000 [==============================] - 5s - loss: 0.1026 - val_loss: 0.1007\n",
      "Epoch 51/100\n",
      "60000/60000 [==============================] - 5s - loss: 0.1022 - val_loss: 0.1004\n",
      "Epoch 52/100\n",
      "60000/60000 [==============================] - 5s - loss: 0.1019 - val_loss: 0.1001\n",
      "Epoch 53/100\n",
      "60000/60000 [==============================] - 7s - loss: 0.1016 - val_loss: 0.0998\n",
      "Epoch 54/100\n",
      "60000/60000 [==============================] - 5s - loss: 0.1013 - val_loss: 0.0995\n",
      "Epoch 55/100\n",
      "60000/60000 [==============================] - 6s - loss: 0.1010 - val_loss: 0.0992\n",
      "Epoch 56/100\n",
      "60000/60000 [==============================] - 6s - loss: 0.1007 - val_loss: 0.0989\n",
      "Epoch 57/100\n",
      "60000/60000 [==============================] - 6s - loss: 0.1005 - val_loss: 0.0987\n",
      "Epoch 58/100\n",
      "60000/60000 [==============================] - 5s - loss: 0.1002 - val_loss: 0.0985\n",
      "Epoch 59/100\n",
      "60000/60000 [==============================] - 6s - loss: 0.1000 - val_loss: 0.0982\n",
      "Epoch 60/100\n",
      "60000/60000 [==============================] - 7s - loss: 0.0998 - val_loss: 0.0980\n",
      "Epoch 61/100\n",
      "60000/60000 [==============================] - 7s - loss: 0.0996 - val_loss: 0.0978\n",
      "Epoch 62/100\n",
      "60000/60000 [==============================] - 6s - loss: 0.0994 - val_loss: 0.0977\n",
      "Epoch 63/100\n",
      "60000/60000 [==============================] - 6s - loss: 0.0992 - val_loss: 0.0975\n",
      "Epoch 64/100\n",
      "60000/60000 [==============================] - 6s - loss: 0.0990 - val_loss: 0.0973\n",
      "Epoch 65/100\n",
      "60000/60000 [==============================] - 5s - loss: 0.0988 - val_loss: 0.0972\n",
      "Epoch 66/100\n",
      "60000/60000 [==============================] - 6s - loss: 0.0987 - val_loss: 0.0970\n",
      "Epoch 67/100\n",
      "60000/60000 [==============================] - 6s - loss: 0.0985 - val_loss: 0.0969\n",
      "Epoch 68/100\n",
      "60000/60000 [==============================] - 6s - loss: 0.0984 - val_loss: 0.0967\n",
      "Epoch 69/100\n",
      "60000/60000 [==============================] - 6s - loss: 0.0982 - val_loss: 0.0966\n",
      "Epoch 70/100\n",
      "60000/60000 [==============================] - 6s - loss: 0.0981 - val_loss: 0.0965\n",
      "Epoch 71/100\n",
      "60000/60000 [==============================] - 6s - loss: 0.0980 - val_loss: 0.0963\n",
      "Epoch 72/100\n",
      "60000/60000 [==============================] - 6s - loss: 0.0979 - val_loss: 0.0962\n",
      "Epoch 73/100\n",
      "60000/60000 [==============================] - 6s - loss: 0.0978 - val_loss: 0.0961\n",
      "Epoch 74/100\n",
      "60000/60000 [==============================] - 5s - loss: 0.0977 - val_loss: 0.0960\n",
      "Epoch 75/100\n",
      "60000/60000 [==============================] - 6s - loss: 0.0975 - val_loss: 0.0959\n",
      "Epoch 76/100\n",
      "60000/60000 [==============================] - 6s - loss: 0.0974 - val_loss: 0.0958\n",
      "Epoch 77/100\n",
      "60000/60000 [==============================] - 6s - loss: 0.0974 - val_loss: 0.0957\n",
      "Epoch 78/100\n",
      "60000/60000 [==============================] - 5s - loss: 0.0973 - val_loss: 0.0957\n",
      "Epoch 79/100\n",
      "60000/60000 [==============================] - 6s - loss: 0.0972 - val_loss: 0.0956\n",
      "Epoch 80/100\n",
      "60000/60000 [==============================] - 6s - loss: 0.0971 - val_loss: 0.0955\n",
      "Epoch 81/100\n",
      "60000/60000 [==============================] - 6s - loss: 0.0970 - val_loss: 0.0954\n",
      "Epoch 82/100\n",
      "60000/60000 [==============================] - 6s - loss: 0.0969 - val_loss: 0.0953\n",
      "Epoch 83/100\n",
      "60000/60000 [==============================] - 5s - loss: 0.0969 - val_loss: 0.0953\n",
      "Epoch 84/100\n",
      "60000/60000 [==============================] - 5s - loss: 0.0968 - val_loss: 0.0952\n",
      "Epoch 85/100\n"
     ]
    },
    {
     "name": "stdout",
     "output_type": "stream",
     "text": [
      "60000/60000 [==============================] - 5s - loss: 0.0967 - val_loss: 0.0951\n",
      "Epoch 86/100\n",
      "60000/60000 [==============================] - 5s - loss: 0.0967 - val_loss: 0.0951\n",
      "Epoch 87/100\n",
      "60000/60000 [==============================] - 5s - loss: 0.0966 - val_loss: 0.0950\n",
      "Epoch 88/100\n",
      "60000/60000 [==============================] - 5s - loss: 0.0965 - val_loss: 0.0950\n",
      "Epoch 89/100\n",
      "60000/60000 [==============================] - 5s - loss: 0.0965 - val_loss: 0.0949\n",
      "Epoch 90/100\n",
      "60000/60000 [==============================] - 5s - loss: 0.0964 - val_loss: 0.0949\n",
      "Epoch 91/100\n",
      "60000/60000 [==============================] - 4s - loss: 0.0964 - val_loss: 0.0948\n",
      "Epoch 92/100\n",
      "60000/60000 [==============================] - 4s - loss: 0.0963 - val_loss: 0.0947\n",
      "Epoch 93/100\n",
      "60000/60000 [==============================] - 4s - loss: 0.0962 - val_loss: 0.0947\n",
      "Epoch 94/100\n",
      "60000/60000 [==============================] - 4s - loss: 0.0962 - val_loss: 0.0946\n",
      "Epoch 95/100\n",
      "60000/60000 [==============================] - 4s - loss: 0.0961 - val_loss: 0.0946\n",
      "Epoch 96/100\n",
      "60000/60000 [==============================] - 4s - loss: 0.0961 - val_loss: 0.0945\n",
      "Epoch 97/100\n",
      "60000/60000 [==============================] - 4s - loss: 0.0960 - val_loss: 0.0945\n",
      "Epoch 98/100\n",
      "60000/60000 [==============================] - 4s - loss: 0.0960 - val_loss: 0.0945\n",
      "Epoch 99/100\n",
      "60000/60000 [==============================] - 4s - loss: 0.0960 - val_loss: 0.0944\n",
      "Epoch 100/100\n",
      "60000/60000 [==============================] - 4s - loss: 0.0959 - val_loss: 0.0944\n"
     ]
    },
    {
     "data": {
      "text/plain": [
       "<keras.callbacks.History at 0x17d15d30>"
      ]
     },
     "execution_count": 16,
     "metadata": {},
     "output_type": "execute_result"
    }
   ],
   "source": [
    "autoencoder.fit(x_train, x_train,\n",
    "                epochs=100,\n",
    "                batch_size=256,\n",
    "                shuffle=True,\n",
    "                validation_data=(x_test, x_test))"
   ]
  },
  {
   "cell_type": "code",
   "execution_count": 17,
   "metadata": {
    "collapsed": true
   },
   "outputs": [],
   "source": [
    "# encode and decode some digits\n",
    "# note that we take them from the *test* set\n",
    "encoded_imgs = encoder.predict(x_test)\n",
    "decoded_imgs = decoder.predict(encoded_imgs)"
   ]
  },
  {
   "cell_type": "code",
   "execution_count": 18,
   "metadata": {},
   "outputs": [
    {
     "data": {
      "image/png": "[encoded data removed]",
      "text/plain": [
       "<matplotlib.figure.Figure at 0x18356a58>"
      ]
     },
     "metadata": {},
     "output_type": "display_data"
    }
   ],
   "source": [
    "# use Matplotlib\n",
    "import matplotlib.pyplot as plt\n",
    "\n",
    "n = 10  # how many digits we will display\n",
    "plt.figure(figsize=(20, 4))\n",
    "for i in range(n):\n",
    "    # display original\n",
    "    ax = plt.subplot(2, n, i + 1)\n",
    "    plt.imshow(x_test[i].reshape(28, 28))\n",
    "    plt.gray()\n",
    "    ax.get_xaxis().set_visible(False)\n",
    "    ax.get_yaxis().set_visible(False)\n",
    "\n",
    "    # display reconstruction\n",
    "    ax = plt.subplot(2, n, i + 1 + n)\n",
    "    plt.imshow(decoded_imgs[i].reshape(28, 28))\n",
    "    plt.gray()\n",
    "    ax.get_xaxis().set_visible(False)\n",
    "    ax.get_yaxis().set_visible(False)\n",
    "plt.show()"
   ]
  },
  {
   "cell_type": "code",
   "execution_count": null,
   "metadata": {
    "collapsed": true
   },
   "outputs": [],
   "source": []
  }
 ],
 "metadata": {
  "kernelspec": {
   "display_name": "Python 3",
   "language": "python",
   "name": "python3"
  },
  "language_info": {
   "codemirror_mode": {
    "name": "ipython",
    "version": 3
   },
   "file_extension": ".py",
   "mimetype": "text/x-python",
   "name": "python",
   "nbconvert_exporter": "python",
   "pygments_lexer": "ipython3",
   "version": "3.6.2"
  }
 },
 "nbformat": 4,
 "nbformat_minor": 2
}
